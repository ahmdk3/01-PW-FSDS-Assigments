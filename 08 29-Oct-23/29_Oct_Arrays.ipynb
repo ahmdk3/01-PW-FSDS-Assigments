{
 "cells": [
  {
   "cell_type": "code",
   "execution_count": 3,
   "id": "5d133d2d-bd92-4a02-b9c6-acaf6a6457a1",
   "metadata": {},
   "outputs": [
    {
     "name": "stdout",
     "output_type": "stream",
     "text": [
      "True\n"
     ]
    }
   ],
   "source": [
    "#1. Given an array, check if it contains any duplicates or not.\n",
    "#arr = [1, 2, 4, 2, 5, 9]\n",
    "#Output = True\n",
    "def check_dup(arr):\n",
    "    seen = set()\n",
    "    for elem in arr:\n",
    "        if elem in seen:\n",
    "            return True  # Duplicate found\n",
    "        seen.add(elem)\n",
    "    return False  # No duplicates found\n",
    "\n",
    "arr=[1, 2, 4,2, 5, 9]\n",
    "print(check_dup(arr))"
   ]
  },
  {
   "cell_type": "code",
   "execution_count": 16,
   "id": "dddfd126-3e8c-4772-a90f-cb9805756e7b",
   "metadata": {},
   "outputs": [
    {
     "name": "stdout",
     "output_type": "stream",
     "text": [
      "[5, 6, 7, 1, 2, 3, 4]\n"
     ]
    }
   ],
   "source": [
    "#2. Given an array and an integer k, rotate the array to the right by k steps.\n",
    "#arr = [1, 2, 3, 4, 5, 6, 7] k = 3\n",
    "#Output = [5, 6, 7, 1, 2, 3, 4]\n",
    "\n",
    "def rotate_array(arr, k):\n",
    "    n = len(arr)\n",
    "    k = k % n  # Handle cases where k is greater than the length of the array\n",
    "\n",
    "    # Reverse the entire array\n",
    "    reverse_array(arr, 0, n - 1)\n",
    "    \n",
    "    # Reverse the first k elements\n",
    "    reverse_array(arr, 0, k-1)\n",
    "    \n",
    "    # Reverse the remaining elements\n",
    "    reverse_array(arr, k, n - 1)\n",
    "\n",
    "def reverse_array(arr, start, end):\n",
    "    while start < end:\n",
    "        arr[start], arr[end] = arr[end], arr[start]\n",
    "        start += 1\n",
    "        end -= 1\n",
    "\n",
    "arr = [1, 2, 3, 4, 5, 6, 7]\n",
    "k = 3\n",
    "rotate_array(arr, k)\n",
    "print(arr)\n"
   ]
  },
  {
   "cell_type": "code",
   "execution_count": 11,
   "id": "5c65bf30-d0ef-4d55-8b0f-422b8efe1c6f",
   "metadata": {},
   "outputs": [
    {
     "name": "stdout",
     "output_type": "stream",
     "text": [
      "[12, 9, 7, 5, 4, 2]\n"
     ]
    }
   ],
   "source": [
    "#3. Reverse the given array in-place, means without using any extra data structure.\n",
    "#arr = [2, 4, 5, 7, 9, 12]\n",
    "#Output = [12, 9, 7, 5, 4, 2]\n",
    "\n",
    "def reverse_array_in_place(arr):\n",
    "    start = 0\n",
    "    end = len(arr) - 1\n",
    "\n",
    "    while start < end:\n",
    "        # Swap elements at start and end indices\n",
    "        arr[start], arr[end] = arr[end], arr[start]\n",
    "        start += 1\n",
    "        end -= 1\n",
    "\n",
    "arr = [2, 4, 5, 7, 9, 12]\n",
    "reverse_array_in_place(arr)\n",
    "print(arr)"
   ]
  },
  {
   "cell_type": "code",
   "execution_count": 12,
   "id": "78a714a6-01f9-4d00-8e06-19a640bd2944",
   "metadata": {},
   "outputs": [
    {
     "name": "stdout",
     "output_type": "stream",
     "text": [
      "20\n"
     ]
    }
   ],
   "source": [
    "#4. Given an array of integers, find the maximum element in an array\n",
    "#arr = [10, 5, 20, 8, 15]\n",
    "#Output = 20\n",
    "\n",
    "def find_max(arr):\n",
    "    max=0\n",
    "    for i in arr:\n",
    "        if i>max:\n",
    "            max=i\n",
    "    return max\n",
    "\n",
    "arr = [10, 5, 20, 8, 15]\n",
    "print(find_max(arr))"
   ]
  },
  {
   "cell_type": "code",
   "execution_count": 13,
   "id": "17ea0111-2efc-4362-a48b-09620be7b372",
   "metadata": {},
   "outputs": [
    {
     "name": "stdout",
     "output_type": "stream",
     "text": [
      "[1, 2, 3, 4, 5]\n"
     ]
    }
   ],
   "source": [
    "#5. Given a sorted array, remove the duplicate element without using any extra data structure.\n",
    "#arr = [1, 1, 2, 2, 2, 3, 3, 4, 4, 4, 5, 5]\n",
    "#Output = [1, 2, 3, 4, 5]\n",
    "\n",
    "def remove_duplicates(arr):\n",
    "    if not arr:\n",
    "        return []\n",
    "\n",
    "    # Initialize a pointer for the unique elements\n",
    "    unique_ptr = 0\n",
    "\n",
    "    # Iterate through the array\n",
    "    for i in range(1, len(arr)):\n",
    "        # If the current element is different from the previous unique element,\n",
    "        # update the unique element and copy the current element to the unique position.\n",
    "        if arr[i] != arr[unique_ptr]:\n",
    "            unique_ptr += 1\n",
    "            arr[unique_ptr] = arr[i]\n",
    "\n",
    "    # The unique elements are now in the first (unique_ptr + 1) positions.\n",
    "    return arr[:unique_ptr + 1]\n",
    "\n",
    "arr = [1, 1, 2, 2, 2, 3, 3, 4, 4, 4, 5, 5]\n",
    "output = remove_duplicates(arr)\n",
    "print(output)"
   ]
  },
  {
   "cell_type": "code",
   "execution_count": null,
   "id": "2c7a9c7d-82a0-451a-add3-613ed6792602",
   "metadata": {},
   "outputs": [],
   "source": []
  }
 ],
 "metadata": {
  "kernelspec": {
   "display_name": "Python 3 (ipykernel)",
   "language": "python",
   "name": "python3"
  },
  "language_info": {
   "codemirror_mode": {
    "name": "ipython",
    "version": 3
   },
   "file_extension": ".py",
   "mimetype": "text/x-python",
   "name": "python",
   "nbconvert_exporter": "python",
   "pygments_lexer": "ipython3",
   "version": "3.10.8"
  }
 },
 "nbformat": 4,
 "nbformat_minor": 5
}
