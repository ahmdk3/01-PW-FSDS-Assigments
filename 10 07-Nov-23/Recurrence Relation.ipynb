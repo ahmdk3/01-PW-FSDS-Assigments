{
 "cells": [
  {
   "cell_type": "markdown",
   "id": "92dc334e-0dc5-40c3-98c3-c6d1028407aa",
   "metadata": {},
   "source": [
    "#### 01 Find the val%e of T(2) for the rec%rrence relation T(n) = 3T(n-1) + 12n, given that T(0)=5."
   ]
  },
  {
   "cell_type": "markdown",
   "id": "6352eb9b-6635-4761-b38a-09bb836ec4f0",
   "metadata": {},
   "source": [
    "### ANS: T(1) = 3 T(0) + 12 = 27\n",
    "###      T(2) = 3 T(1) + 24 = 105"
   ]
  },
  {
   "cell_type": "markdown",
   "id": "0e190d1d-0b62-4944-b372-625ef7b4e859",
   "metadata": {},
   "source": [
    "#### 02 Solve for Recurrence Ralation"
   ]
  },
  {
   "cell_type": "markdown",
   "id": "b94afe1c-892f-4acc-996d-91d7402770ae",
   "metadata": {},
   "source": [
    "#### 02a. T(n) = T(n-1) + c"
   ]
  },
  {
   "cell_type": "markdown",
   "id": "603b0b51-d8fb-47be-9c5f-016c367beb58",
   "metadata": {},
   "source": [
    "### ANS: T(1) = T(0) + c \n",
    "###      T(2) = T(1) + c = T(0) + 2c\n",
    "###      T(3) = T(2) + c = T(0) + 3c\n",
    "###      T(n) = T(0) + nc \n",
    "###      assuming T(0) to be constance, T(n) linearly depends on n hence its O(n)"
   ]
  },
  {
   "cell_type": "markdown",
   "id": "ce86db77-5f8a-4a80-b7b4-9c40b527047b",
   "metadata": {},
   "source": [
    "#### 02b. T(n) = 2T(n/2)+c"
   ]
  },
  {
   "cell_type": "markdown",
   "id": "4080a9c7-8847-4581-a14a-17c016b76dff",
   "metadata": {},
   "source": [
    "### ANS: O(n log n)"
   ]
  },
  {
   "cell_type": "markdown",
   "id": "0d1c6eb9-2651-4f46-bb35-d46ba84f3249",
   "metadata": {},
   "source": [
    "#### 02c. T(n) = 2T(n/2) + c"
   ]
  },
  {
   "cell_type": "markdown",
   "id": "218f514c-e52e-4f05-ac12-a9e7d9cc8286",
   "metadata": {},
   "source": [
    "### ANS: O(log n)"
   ]
  },
  {
   "cell_type": "markdown",
   "id": "07070a57-96bc-4b14-90e5-db488a8ebf5f",
   "metadata": {},
   "source": [
    "### 2d. T(n) = T(n/2) + c"
   ]
  },
  {
   "cell_type": "markdown",
   "id": "17d2bbf3-d825-4c96-b688-c78fe9429d7f",
   "metadata": {},
   "source": [
    "### ANS: O(log n)"
   ]
  },
  {
   "cell_type": "markdown",
   "id": "c99096b0-89fc-4037-874c-99f3c62d3750",
   "metadata": {},
   "source": [
    "### 3a. ANS:\n",
    "### The recursive tree for this recurrence relation has a branching factor of 2 at each level, and the cost at each level is 1. The sum of costs at all levels forms a geometric series.\n",
    "### Using the formula for the sum of a geometric series, T(n) = 2^n - 1. and hence O(n) = 2^n\n"
   ]
  },
  {
   "cell_type": "markdown",
   "id": "c50be2a0-790d-42a8-9008-1939d6901fad",
   "metadata": {},
   "source": [
    "### 3b. T(n) = 2T(n/2) + n\n",
    "### The recursive tree for this recurrence relation represents a divide-and-conquer algorithm where each level incurs a cost of n. The number of levels is log(n) in base 2.\n",
    "### The total cost is the sum of costs at each level, forming a geometric series.\n",
    "### Solving the geometric series, T(n) = n. and hence O(n) = n"
   ]
  },
  {
   "cell_type": "code",
   "execution_count": null,
   "id": "1d21684c-fde5-4dd8-8bd8-4f1f1ab0f3af",
   "metadata": {},
   "outputs": [],
   "source": []
  }
 ],
 "metadata": {
  "kernelspec": {
   "display_name": "Python 3 (ipykernel)",
   "language": "python",
   "name": "python3"
  },
  "language_info": {
   "codemirror_mode": {
    "name": "ipython",
    "version": 3
   },
   "file_extension": ".py",
   "mimetype": "text/x-python",
   "name": "python",
   "nbconvert_exporter": "python",
   "pygments_lexer": "ipython3",
   "version": "3.10.8"
  }
 },
 "nbformat": 4,
 "nbformat_minor": 5
}
